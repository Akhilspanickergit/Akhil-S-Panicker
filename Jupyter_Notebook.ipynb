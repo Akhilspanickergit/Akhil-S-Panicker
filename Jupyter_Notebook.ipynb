{
 "cells": [
  {
   "cell_type": "markdown",
   "metadata": {},
   "source": [
    "<H1>My Jupyter Notebook on IBM Watson Studio<H1>"
   ]
  },
  {
   "cell_type": "markdown",
   "metadata": {},
   "source": [
    "<b> Akhil S Panicker </b><br>Data Scientist</br> "
   ]
  },
  {
   "cell_type": "markdown",
   "metadata": {},
   "source": [
    "<i> I am interested in data science because, I want to become a datascientist under the industry of Technology Field in AI & ML, I want to make people's life easier. <i>"
   ]
  },
  {
   "cell_type": "markdown",
   "metadata": {},
   "source": [
       "###The Following Code Will Show How Much I Will Pay Coursera For The \"Data Science\" Course:"
       ]
  },
  {
       "cell_type": "code",
            "execution_count": 9,
            "metadata": {
                "scrolled": true
  },
            "outputs": [
  {
                    "name": "stdout",
                    "output_type": "stream",
                    "text": "For Data Science course you will pay in total 38 $.\n"
   }
    ],
            "source": "import math                #importing math for math.ceil() function (rounding up).\nMonthlyFee = 38            # monthly fee in USD\nCourseLength = 1          # course length according to Coursera in month\nMyPace = 1                 # the coefficient which show how much times faster you can pass the course\nTotalFee = math.ceil(CourseLength/MyPace)*MonthlyFee # counting the fee\nprint('For Data Science course you will pay in total',TotalFee,'$.') # output the values."
        },
        {
            "cell_type": "markdown",
            "metadata": {},
            "source": "Because: \n1. Curiosity about data science helps me to stay on track with my course and to finish it on time without wasting my time. \n2. Its not a lot for 1 months\n***\nTo see how much will you pay, run this code:\n```python\nimport math                #importing math for math.ceil() function (rounding up).\nMonthlyFee = 38            # monthly fee in USD\nCourseLength = 1          # course length according to Coursera in month\nMyPace = 1                 # the coefficient which show how much times faster you can pass the course\nTotalFee = math.ceil(CourseLength/MyPace)*MonthlyFee # counting the fee\nprint('For Data Science course you will pay in total',TotalFee,'$.') # output the values.\n\n```\n\n* This code will help you plan to complete this course faster \n   \n   `Try it if you need`\n   \n   \n* Here is the link to course: [IBM Data Science Professional Certificate](https://www.coursera.org/professional-certificates/ibm-data-science \"Enroll\")\n  \n# The `IBM`with`COURSERA` created one of the best\"Data Science\"course available in the online learning platform\n![alt text][logo]\n\n[logo]: https://i.imgur.com/wq1WAwy.png\"\n   \n   >\u201c The course provides expert support, helps develop extensive skills and expertise, and has a focus on what's necessary to attain a competitive edge in the job market. Additionally, it's affordable, flexible, online, and has no prerequisites to enroll.\u201d\n\u2015 IBM\n\n~~Russia And Ukraine Conflicts: This world’s anguish is no different from the love we insist on holding back.~~\n"
         },
        {
            "cell_type": "code",
            "execution_count": null,
            "metadata": {},
            "outputs": [],
            "source": ""
        }
    ],
    "metadata": {
        "kernelspec": {
            "display_name": "Python 3.6",
            "language": "python",
            "name": "python3"
        },
        "language_info": {
            "codemirror_mode": {
                "name": "ipython",
                "version": 3
            },
            "file_extension": ".py",
            "mimetype": "text/x-python",
            "name": "python",
            "nbconvert_exporter": "python",
            "pygments_lexer": "ipython3",
            "version": "3.6.9"
        }
    },
    "nbformat": 4,
    "nbformat_minor": 1
}
